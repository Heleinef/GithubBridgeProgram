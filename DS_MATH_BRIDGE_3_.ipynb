{
  "nbformat": 4,
  "nbformat_minor": 0,
  "metadata": {
    "colab": {
      "provenance": [],
      "authorship_tag": "ABX9TyOUMYFA0xt1pdtDeVeAYPNx",
      "include_colab_link": true
    },
    "kernelspec": {
      "name": "python3",
      "display_name": "Python 3"
    },
    "language_info": {
      "name": "python"
    }
  },
  "cells": [
    {
      "cell_type": "markdown",
      "metadata": {
        "id": "view-in-github",
        "colab_type": "text"
      },
      "source": [
        "<a href=\"https://colab.research.google.com/github/Heleinef/GithubBridgeProgram/blob/main/DS_MATH_BRIDGE_3_.ipynb\" target=\"_parent\"><img src=\"https://colab.research.google.com/assets/colab-badge.svg\" alt=\"Open In Colab\"/></a>"
      ]
    },
    {
      "cell_type": "markdown",
      "source": [
        "CUNY DATA SCIENCE MATH BRIDGE ASSIGNMENT\n"
      ],
      "metadata": {
        "id": "jzxAEtM0PmcZ"
      }
    },
    {
      "cell_type": "markdown",
      "source": [
        "# 1.The weights of steers in a herd are distributed normally. The variance is 40,000 and the mean steer weight is 1300 lbs. Find the probability that the weight of a randomly selected steer is greater than 979 lbs. (Round your answer to 4 decimal places)\n"
      ],
      "metadata": {
        "id": "cygO7VsLP97A"
      }
    },
    {
      "cell_type": "code",
      "source": [
        "from scipy.stats import norm\n",
        "\n",
        "def probability_greater_than(mean, variance, value):\n",
        "    # Calculate the standard deviation\n",
        "    standard_deviation = variance ** 0.5\n",
        "\n",
        "    # Calculate the Z-score\n",
        "    z_score = (value - mean) / standard_deviation\n",
        "\n",
        "    # Calculate the cumulative probability\n",
        "    probability = 1 - norm.cdf(z_score)\n",
        "\n",
        "    return probability\n",
        "\n",
        "if __name__ == \"__main__\":\n",
        "    # Given data\n",
        "    mean_steer_weight = 1300\n",
        "    variance_steer_weight = 40000\n",
        "    selected_weight = 979\n",
        "\n",
        "    # Calculate the probability\n",
        "    probability = probability_greater_than(mean_steer_weight, variance_steer_weight, selected_weight)\n",
        "\n",
        "    # Print the result rounded to 4 decimal places\n",
        "    print(f\"Probability that the weight of a randomly selected steer is greater than {selected_weight} lbs: {probability:.4f}\")\n"
      ],
      "metadata": {
        "colab": {
          "base_uri": "https://localhost:8080/"
        },
        "id": "xRtY_rLWpKXU",
        "outputId": "ed48e46f-4bc3-4d36-b72a-4964df407cca"
      },
      "execution_count": null,
      "outputs": [
        {
          "output_type": "stream",
          "name": "stdout",
          "text": [
            "Probability that the weight of a randomly selected steer is greater than 979 lbs: 0.9458\n"
          ]
        }
      ]
    },
    {
      "cell_type": "markdown",
      "source": [
        "#2. SVGA monitors manufactured by TSI Electronics have life spans that have a normal distribution with a variance of 1,960,000 and a mean life span of 11,000 hours.  If a SVGA monitor is selected at random, find the probability that the life span of the monitor will be more than 8340 hours. (Round your answer to 4 decimal places)"
      ],
      "metadata": {
        "id": "4IerboWyoS7K"
      }
    },
    {
      "cell_type": "code",
      "source": [
        "from scipy.stats import norm\n",
        "\n",
        "def probability_greater_than(mean, variance, value):\n",
        "    # Calculate the standard deviation\n",
        "    standard_deviation = variance ** 0.5\n",
        "\n",
        "    # Calculate the Z-score\n",
        "    z_score = (value - mean) / standard_deviation\n",
        "\n",
        "    # Calculate the cumulative probability\n",
        "    probability = 1 - norm.cdf(z_score)\n",
        "\n",
        "    return probability\n",
        "\n",
        "if __name__ == \"__main__\":\n",
        "    # Given data\n",
        "    mean_life_span = 11000\n",
        "    variance_life_span = 1960000\n",
        "    selected_life_span = 8340\n",
        "\n",
        "    # Calculate the probability\n",
        "    probability = probability_greater_than(mean_life_span, variance_life_span, selected_life_span)\n",
        "\n",
        "    # Print the result rounded to 4 decimal places\n",
        "    print(f\"Probability that the life span of the monitor will be more than {selected_life_span} hours: {probability:.4f}\")\n"
      ],
      "metadata": {
        "colab": {
          "base_uri": "https://localhost:8080/"
        },
        "id": "Seco-zVkqHNa",
        "outputId": "a6714a11-c88d-43d2-c624-4f72f42fc648"
      },
      "execution_count": null,
      "outputs": [
        {
          "output_type": "stream",
          "name": "stdout",
          "text": [
            "Probability that the life span of the monitor will be more than 8340 hours: 0.9713\n"
          ]
        }
      ]
    },
    {
      "cell_type": "markdown",
      "source": [
        "#3. Suppose the mean income of firms in the industry for a year is 80 million dollars with a standard deviation of 3 million dollars.  If incomes for the industry are distributed normally, what is the probability that a randomly selected firm will earn between 83 and 85 million dollars? (Round your answer to 4 decimal places)\n"
      ],
      "metadata": {
        "id": "TEa7xut6n9iK"
      }
    },
    {
      "cell_type": "code",
      "source": [
        "from scipy.stats import norm\n",
        "\n",
        "def probability_between(mean, std_dev, lower_bound, upper_bound):\n",
        "    # Calculate the Z-scores for the lower and upper bounds\n",
        "    z_lower = (lower_bound - mean) / std_dev\n",
        "    z_upper = (upper_bound - mean) / std_dev\n",
        "\n",
        "    # Calculate the cumulative probabilities\n",
        "    prob_lower = norm.cdf(z_lower)\n",
        "    prob_upper = norm.cdf(z_upper)\n",
        "\n",
        "    # Calculate the probability of the range\n",
        "    probability = prob_upper - prob_lower\n",
        "\n",
        "    return probability\n",
        "\n",
        "if __name__ == \"__main__\":\n",
        "    # Given data\n",
        "    mean_income = 80_000_000\n",
        "    std_dev_income = 3_000_000\n",
        "    lower_bound_income = 83_000_000\n",
        "    upper_bound_income = 85_000_000\n",
        "\n",
        "    # Calculate the probability\n",
        "    probability = probability_between(mean_income, std_dev_income, lower_bound_income, upper_bound_income)\n",
        "\n",
        "    # Print the result rounded to 4 decimal places\n",
        "    print(f\"Probability that a randomly selected firm will earn between 83 and 85 million dollars: {probability:.4f}\")\n"
      ],
      "metadata": {
        "colab": {
          "base_uri": "https://localhost:8080/"
        },
        "id": "HSSnYfg6rWJ0",
        "outputId": "980a7cc2-7b20-416e-b53a-21348630cbfe"
      },
      "execution_count": null,
      "outputs": [
        {
          "output_type": "stream",
          "name": "stdout",
          "text": [
            "Probability that a randomly selected firm will earn between 83 and 85 million dollars: 0.1109\n"
          ]
        }
      ]
    },
    {
      "cell_type": "markdown",
      "source": [
        "#4. Suppose GRE Verbal scores are normally distributed with a mean of 456 and a standard deviation of 123.  A university plans to offer tutoring jobs to students whose scores are in the top 14%.  What is the minimum score required for the job offer?  Round your answer to the nearest whole number, if necessary.\n"
      ],
      "metadata": {
        "id": "8k-IQRh8sTis"
      }
    },
    {
      "cell_type": "code",
      "source": [
        "from scipy.stats import norm\n",
        "\n",
        "def minimum_score_for_job_offer(mean, std_dev, percentile):\n",
        "    # Calculate the Z-score corresponding to the given percentile\n",
        "    z_score = norm.ppf(percentile)\n",
        "\n",
        "    # Calculate the minimum score required for the job offer\n",
        "    minimum_score = z_score * std_dev + mean\n",
        "\n",
        "    return round(minimum_score)\n",
        "\n",
        "if __name__ == \"__main__\":\n",
        "    # Given data\n",
        "    mean_verbal_score = 456\n",
        "    std_dev_verbal_score = 123\n",
        "    target_percentile = 0.86  # Top 14% corresponds to the 86th percentile\n",
        "\n",
        "    # Calculate the minimum score required for the job offer\n",
        "    minimum_score = minimum_score_for_job_offer(mean_verbal_score, std_dev_verbal_score, target_percentile)\n",
        "\n",
        "    # Print the result\n",
        "    print(f\"The minimum GRE Verbal score required for the tutoring job offer is: {minimum_score}\")\n"
      ],
      "metadata": {
        "colab": {
          "base_uri": "https://localhost:8080/"
        },
        "id": "SLb9hMYVsdB0",
        "outputId": "32d7a26f-aae0-4a65-fe37-e911715c1a8b"
      },
      "execution_count": null,
      "outputs": [
        {
          "output_type": "stream",
          "name": "stdout",
          "text": [
            "The minimum GRE Verbal score required for the tutoring job offer is: 589\n"
          ]
        }
      ]
    },
    {
      "cell_type": "markdown",
      "source": [
        "# 5. The lengths of nails produced in a factory are normally distributed with a mean of 6.13 centimeters and a standard deviation of 0.06 centimeters.  Find the two lengths that separate the top 7% and the bottom 7%.  These lengths could serve as limits used to identify which nails should be rejected.  Round your answer to the nearest hundredth, if necessary.\n"
      ],
      "metadata": {
        "id": "OXuKDh8Dtz15"
      }
    },
    {
      "cell_type": "code",
      "source": [
        "from scipy.stats import norm\n",
        "\n",
        "def lengths_separating_percentiles(mean, std_dev, percentile1, percentile2):\n",
        "    # Calculate the Z-scores for the given percentiles\n",
        "    z_score1 = norm.ppf(percentile1)\n",
        "    z_score2 = norm.ppf(percentile2)\n",
        "\n",
        "    # Calculate the lengths corresponding to the Z-scores\n",
        "    length1 = z_score1 * std_dev + mean\n",
        "    length2 = z_score2 * std_dev + mean\n",
        "\n",
        "    return round(length1, 2), round(length2, 2)\n",
        "\n",
        "if __name__ == \"__main__\":\n",
        "    # Given data\n",
        "    mean_length = 6.13\n",
        "    std_dev_length = 0.06\n",
        "    top_percentile = 0.93  # Top 7% corresponds to the 93rd percentile\n",
        "    bottom_percentile = 0.07  # Bottom 7% corresponds to the 7th percentile\n",
        "\n",
        "    # Calculate the lengths separating the percentiles\n",
        "    length_top_7, length_bottom_7 = lengths_separating_percentiles(mean_length, std_dev_length, top_percentile, bottom_percentile)\n",
        "\n",
        "    # Print the results\n",
        "    print(f\"The length separating the top 7% is: {length_top_7} centimeters\")\n",
        "    print(f\"The length separating the bottom 7% is: {length_bottom_7} centimeters\")\n"
      ],
      "metadata": {
        "colab": {
          "base_uri": "https://localhost:8080/"
        },
        "id": "NC3WVowfuPZ7",
        "outputId": "5f787c3c-360d-40e5-a084-f4a80e610669"
      },
      "execution_count": null,
      "outputs": [
        {
          "output_type": "stream",
          "name": "stdout",
          "text": [
            "The length separating the top 7% is: 6.22 centimeters\n",
            "The length separating the bottom 7% is: 6.04 centimeters\n"
          ]
        }
      ]
    },
    {
      "cell_type": "markdown",
      "source": [
        "#6. An English professor assigns letter grades on a test according to the following scheme.\n",
        "\tA:  Top 13% of scores\n",
        "\tB:  Scores below the top 13% and above the bottom 55%\n",
        "\tC:  Scores below the top 45% and above the bottom 20%\n",
        "\tD:  Scores below the top 80% and above the bottom 9%\n",
        "\tF:  Bottom 9% of scores\n",
        "\tScores on the test are normally distributed with a mean of 78.8 and a standard deviation of 9.8.  Find the numerical limits for a C grade.  Round your answers to the nearest whole number, if necessary.\n"
      ],
      "metadata": {
        "id": "1d8M_ttru99g"
      }
    },
    {
      "cell_type": "code",
      "source": [
        "from scipy.stats import norm\n",
        "\n",
        "def grade_numerical_limits(mean, std_dev, top_percentile, bottom_percentile):\n",
        "    # Calculate the Z-scores for the given percentiles\n",
        "    z_score_top = norm.ppf(top_percentile)\n",
        "    z_score_bottom = norm.ppf(bottom_percentile)\n",
        "\n",
        "    # Calculate the scores corresponding to the Z-scores\n",
        "    score_top = z_score_top * std_dev + mean\n",
        "    score_bottom = z_score_bottom * std_dev + mean\n",
        "\n",
        "    return round(score_bottom), round(score_top)\n",
        "\n",
        "if __name__ == \"__main__\":\n",
        "    # Given data\n",
        "    mean_score = 78.8\n",
        "    std_dev_score = 9.8\n",
        "    top_percentile_C = 0.55  # Top 45% corresponds to the 55th percentile\n",
        "    bottom_percentile_C = 0.20  # Bottom 20% corresponds to the 20th percentile\n",
        "\n",
        "    # Calculate the numerical limits for a C grade\n",
        "    bottom_limit_C, top_limit_C = grade_numerical_limits(mean_score, std_dev_score, top_percentile_C, bottom_percentile_C)\n",
        "\n",
        "    # Print the results\n",
        "    print(f\"The numerical limit for a C grade is between {bottom_limit_C} and {top_limit_C}.\")\n"
      ],
      "metadata": {
        "colab": {
          "base_uri": "https://localhost:8080/"
        },
        "id": "9iYZNf14vbzM",
        "outputId": "7ee4d454-fc72-4ce9-dc14-8b36601b80b8"
      },
      "execution_count": null,
      "outputs": [
        {
          "output_type": "stream",
          "name": "stdout",
          "text": [
            "The numerical limit for a C grade is between 71 and 80.\n"
          ]
        }
      ]
    },
    {
      "cell_type": "markdown",
      "source": [
        "#7.Suppose ACT Composite scores are normally distributed with a mean of 21.2 and a standard deviation of 5.4.  A university plans to admit students whose scores are in the top 45%.  What is the minimum score required for admission?  Round your answer to the nearest tenth, if necessary."
      ],
      "metadata": {
        "id": "D56TXFN8wcz8"
      }
    },
    {
      "cell_type": "code",
      "source": [
        "from scipy.stats import norm\n",
        "\n",
        "def minimum_score_for_admission(mean, std_dev, top_percentile):\n",
        "    # Calculate the Z-score for the given percentile\n",
        "    z_score = norm.ppf(top_percentile)\n",
        "\n",
        "    # Calculate the score corresponding to the Z-score\n",
        "    score = z_score * std_dev + mean\n",
        "\n",
        "    return round(score, 1)\n",
        "\n",
        "if __name__ == \"__main__\":\n",
        "    # Given data\n",
        "    mean_score = 21.2\n",
        "    std_dev_score = 5.4\n",
        "    top_percentile_admission = 0.55  # Top 45% corresponds to the 55th percentile\n",
        "\n",
        "    # Calculate the minimum score required for admission\n",
        "    minimum_score_admission = minimum_score_for_admission(mean_score, std_dev_score, top_percentile_admission)\n",
        "\n",
        "    # Print the result\n",
        "    print(f\"The minimum ACT Composite score required for admission is: {minimum_score_admission}\")\n"
      ],
      "metadata": {
        "colab": {
          "base_uri": "https://localhost:8080/"
        },
        "id": "qzYVnK-hwgu_",
        "outputId": "62de6dc7-6208-4704-ffe3-fa907b6955ab"
      },
      "execution_count": null,
      "outputs": [
        {
          "output_type": "stream",
          "name": "stdout",
          "text": [
            "The minimum ACT Composite score required for admission is: 21.9\n"
          ]
        }
      ]
    },
    {
      "cell_type": "markdown",
      "source": [
        "# 8.Consider the probability that less than 11 out of 151 students will not graduate on time.  Assume the probability that a given student will not graduate on time is 9%.  Approximate the probability using the normal distribution. (Round your answer to 4 decimal places.)\n",
        "\n"
      ],
      "metadata": {
        "id": "_lSILkJcw4QC"
      }
    },
    {
      "cell_type": "code",
      "source": [
        "from scipy.stats import norm\n",
        "\n",
        "def binomial_approximation(n, p, x):\n",
        "    mean = n * p\n",
        "    std_dev = (n * p * (1 - p)) ** 0.5\n",
        "    z_score = (x - mean) / std_dev\n",
        "    probability = norm.cdf(z_score)\n",
        "    return probability\n",
        "\n",
        "if __name__ == \"__main__\":\n",
        "    # Given data\n",
        "    n_students = 151\n",
        "    p_graduate_on_time = 0.91  # Probability of graduating on time\n",
        "    x_not_graduate_on_time = 10.5  # Less than 11 students\n",
        "\n",
        "    # Calculate the probability using normal approximation\n",
        "    probability_less_than_11 = binomial_approximation(n_students, p_graduate_on_time, x_not_graduate_on_time)\n",
        "\n",
        "    # Print the result rounded to 4 decimal places\n",
        "    print(f\"The probability that less than 11 out of 151 students will not graduate on time (using normal approximation) is: {probability_less_than_11:.4f}\")\n"
      ],
      "metadata": {
        "colab": {
          "base_uri": "https://localhost:8080/"
        },
        "id": "vh6Aqvp0xBf6",
        "outputId": "bf66e15f-184a-489e-e8bd-ba65fab6911c"
      },
      "execution_count": null,
      "outputs": [
        {
          "output_type": "stream",
          "name": "stdout",
          "text": [
            "The probability that less than 11 out of 151 students will not graduate on time (using normal approximation) is: 0.0000\n"
          ]
        }
      ]
    },
    {
      "cell_type": "markdown",
      "source": [
        "#9. The mean lifetime of a tire is 48 months with a standard deviation of 7.  If 147 tires are sampled, what is the probability that the mean of the sample would be greater than 48.83 months? (Round your answer to 4 decimal places)"
      ],
      "metadata": {
        "id": "MV0reOCHxtAs"
      }
    },
    {
      "cell_type": "code",
      "source": [
        "from scipy.stats import norm\n",
        "\n",
        "def probability_greater_than_sample_mean(pop_mean, pop_std_dev, sample_mean, sample_size):\n",
        "    # Calculate the standard error of the sample mean\n",
        "    standard_error = pop_std_dev / (sample_size ** 0.5)\n",
        "\n",
        "    # Calculate the Z-score for the sample mean\n",
        "    z_score = (sample_mean - pop_mean) / standard_error\n",
        "\n",
        "    # Calculate the cumulative probability\n",
        "    probability = 1 - norm.cdf(z_score)\n",
        "\n",
        "    return probability\n",
        "\n",
        "if __name__ == \"__main__\":\n",
        "    # Given data\n",
        "    population_mean = 48\n",
        "    population_std_dev = 7\n",
        "    sample_mean = 48.83\n",
        "    sample_size = 147\n",
        "\n",
        "    # Calculate the probability\n",
        "    probability_greater_than_mean = probability_greater_than_sample_mean(population_mean, population_std_dev, sample_mean, sample_size)\n",
        "\n",
        "    # Print the result rounded to 4 decimal places\n",
        "    print(f\"The probability that the mean of the sample would be greater than 48.83 months is: {probability_greater_than_mean:.4f}\")\n"
      ],
      "metadata": {
        "colab": {
          "base_uri": "https://localhost:8080/"
        },
        "id": "I7oGXGK2x04E",
        "outputId": "7e1a43ae-ab49-48b1-bb6e-804b9c952404"
      },
      "execution_count": null,
      "outputs": [
        {
          "output_type": "stream",
          "name": "stdout",
          "text": [
            "The probability that the mean of the sample would be greater than 48.83 months is: 0.0753\n"
          ]
        }
      ]
    },
    {
      "cell_type": "markdown",
      "source": [
        "# 10.The quality control manager at a computer manufacturing company believes that the mean life of a computer is 91 months, with a standard deviation of 10.  If he is correct, what is the probability that the mean of a sample of 68 computers would be greater than 93.54 months? (Round your answer to 4 decimal places)\n",
        "\n"
      ],
      "metadata": {
        "id": "C2j4MoHvyNBF"
      }
    },
    {
      "cell_type": "code",
      "source": [
        "from scipy.stats import norm\n",
        "\n",
        "def probability_greater_than_sample_mean(pop_mean, pop_std_dev, sample_mean, sample_size):\n",
        "    # Calculate the standard error of the sample mean\n",
        "    standard_error = pop_std_dev / (sample_size ** 0.5)\n",
        "\n",
        "    # Calculate the Z-score for the sample mean\n",
        "    z_score = (sample_mean - pop_mean) / standard_error\n",
        "\n",
        "    # Calculate the cumulative probability\n",
        "    probability = 1 - norm.cdf(z_score)\n",
        "\n",
        "    return probability\n",
        "\n",
        "if __name__ == \"__main__\":\n",
        "    # Given data\n",
        "    population_mean = 91\n",
        "    population_std_dev = 10\n",
        "    sample_mean = 93.54\n",
        "    sample_size = 68\n",
        "\n",
        "    # Calculate the probability\n",
        "    probability_greater_than_mean = probability_greater_than_sample_mean(population_mean, population_std_dev, sample_mean, sample_size)\n",
        "\n",
        "    # Print the result rounded to 4 decimal places\n",
        "    print(f\"The probability that the mean of a sample of 68 computers would be greater than 93.54 months is: {probability_greater_than_mean:.4f}\")\n"
      ],
      "metadata": {
        "colab": {
          "base_uri": "https://localhost:8080/"
        },
        "id": "JeF7jEOVylaN",
        "outputId": "680a5dd6-538c-416e-e9eb-1a7bc27685af"
      },
      "execution_count": null,
      "outputs": [
        {
          "output_type": "stream",
          "name": "stdout",
          "text": [
            "The probability that the mean of a sample of 68 computers would be greater than 93.54 months is: 0.0181\n"
          ]
        }
      ]
    },
    {
      "cell_type": "markdown",
      "source": [
        "# 11. A director of reservations believes that 7% of the ticketed passengers are no-shows.  If the director is right, what is the probability that the proportion of no-shows in a sample of 540 ticketed passengers would differ from the population proportion by less than 3%? (Round your answer to 4 decimal places)\n",
        "\n",
        "\n"
      ],
      "metadata": {
        "id": "vlm8A7c9yyVp"
      }
    },
    {
      "cell_type": "code",
      "source": [
        "from scipy.stats import norm\n",
        "\n",
        "def probability_proportion_difference(pop_proportion, sample_size, difference):\n",
        "    # Calculate the standard error of the sample proportion\n",
        "    standard_error = (pop_proportion * (1 - pop_proportion) / sample_size) ** 0.5\n",
        "\n",
        "    # Calculate the Z-scores for the difference in proportion\n",
        "    z_score1 = difference / standard_error\n",
        "    z_score2 = -difference / standard_error\n",
        "\n",
        "    # Calculate the cumulative probability between the Z-scores\n",
        "    probability = norm.cdf(z_score1) - norm.cdf(z_score2)\n",
        "\n",
        "    return probability\n",
        "\n",
        "if __name__ == \"__main__\":\n",
        "    # Given data\n",
        "    population_proportion = 0.07  # 7%\n",
        "    sample_size = 540\n",
        "    proportion_difference = 0.03  # 3%\n",
        "\n",
        "    # Calculate the probability\n",
        "    probability_within_3_percent = probability_proportion_difference(population_proportion, sample_size, proportion_difference)\n",
        "\n",
        "    # Print the result rounded to 4 decimal places\n",
        "    print(f\"The probability that the proportion of no-shows in a sample of 540 ticketed passengers would differ from the population proportion by less than 3% is: {probability_within_3_percent:.4f}\")\n"
      ],
      "metadata": {
        "colab": {
          "base_uri": "https://localhost:8080/"
        },
        "id": "Wfpu_ruJzAKv",
        "outputId": "5018c98c-fd1c-4c89-8b31-126d88e43f87"
      },
      "execution_count": null,
      "outputs": [
        {
          "output_type": "stream",
          "name": "stdout",
          "text": [
            "The probability that the proportion of no-shows in a sample of 540 ticketed passengers would differ from the population proportion by less than 3% is: 0.9937\n"
          ]
        }
      ]
    },
    {
      "cell_type": "markdown",
      "source": [
        "#12.A bottle maker believes that 23% of his bottles are defective.  If the bottle maker is accurate, what is the probability that the proportion of defective bottles in a sample of 602 bottles would differ from the population proportion by greater than 4%? (Round your answer to 4 decimal places\n"
      ],
      "metadata": {
        "id": "IAMmoUi5zaZb"
      }
    },
    {
      "cell_type": "code",
      "source": [
        "from scipy.stats import norm\n",
        "\n",
        "def probability_proportion_difference(pop_proportion, sample_size, difference):\n",
        "    # Calculate the standard error of the sample proportion\n",
        "    standard_error = (pop_proportion * (1 - pop_proportion) / sample_size) ** 0.5\n",
        "\n",
        "    # Calculate the Z-scores for the difference in proportion\n",
        "    z_score1 = difference / standard_error\n",
        "    z_score2 = -difference / standard_error\n",
        "\n",
        "    # Calculate the cumulative probability outside of the Z-scores\n",
        "    probability = 1 - (norm.cdf(z_score1) - norm.cdf(z_score2))\n",
        "\n",
        "    return probability\n",
        "\n",
        "if __name__ == \"__main__\":\n",
        "    # Given data\n",
        "    population_proportion = 0.23  # 23%\n",
        "    sample_size = 602\n",
        "    proportion_difference = 0.04  # 4%\n",
        "\n",
        "    # Calculate the probability\n",
        "    probability_greater_than_4_percent = probability_proportion_difference(population_proportion, sample_size, proportion_difference)\n",
        "\n",
        "    # Print the result rounded to 4 decimal places\n",
        "    print(f\"The probability that the proportion of defective bottles in a sample of 602 bottles would differ from the population proportion by greater than 4% is: {probability_greater_than_4_percent:.4f}\")\n"
      ],
      "metadata": {
        "colab": {
          "base_uri": "https://localhost:8080/"
        },
        "id": "GoTza2UHz-CZ",
        "outputId": "589d349d-386e-4d72-e229-b227b8da96ce"
      },
      "execution_count": null,
      "outputs": [
        {
          "output_type": "stream",
          "name": "stdout",
          "text": [
            "The probability that the proportion of defective bottles in a sample of 602 bottles would differ from the population proportion by greater than 4% is: 0.0197\n"
          ]
        }
      ]
    },
    {
      "cell_type": "markdown",
      "source": [
        "#13.A research company desires to know the mean consumption of beef per week among males over age 48.  Suppose a sample of size 208 is drawn with x ̅  = 3.9.  Assume ® = 0.8 .  Construct the 80% confidence interval for the mean number of lb. of beef per week among males over 48. (Round your answers to 1 decimal place)"
      ],
      "metadata": {
        "id": "9AInHbIO0M6a"
      }
    },
    {
      "cell_type": "code",
      "source": [
        "def confidence_interval(sample_mean, pop_std_dev, sample_size, confidence_level):\n",
        "    from scipy.stats import norm\n",
        "\n",
        "    # Calculate the Z-score for the given confidence level\n",
        "    z_score = norm.ppf(1 - (1 - confidence_level) / 2)\n",
        "\n",
        "    # Calculate the standard error\n",
        "    standard_error = pop_std_dev / (sample_size ** 0.5)\n",
        "\n",
        "    # Calculate the lower and upper bounds of the confidence interval\n",
        "    lower_bound = sample_mean - z_score * standard_error\n",
        "    upper_bound = sample_mean + z_score * standard_error\n",
        "\n",
        "    return round(lower_bound, 1), round(upper_bound, 1)\n",
        "\n",
        "if __name__ == \"__main__\":\n",
        "    # Given data\n",
        "    sample_mean = 3.9\n",
        "    pop_std_dev = 0.8\n",
        "    sample_size = 208\n",
        "    confidence_level = 0.80  # 80% confidence interval\n",
        "\n",
        "    # Calculate the confidence interval\n",
        "    lower_bound, upper_bound = confidence_interval(sample_mean, pop_std_dev, sample_size, confidence_level)\n",
        "\n",
        "    # Print the result\n",
        "    print(f\"The 80% confidence interval for the mean number of pounds of beef consumed per week among males over 48 is: ({lower_bound}, {upper_bound})\")\n"
      ],
      "metadata": {
        "colab": {
          "base_uri": "https://localhost:8080/"
        },
        "id": "Kx_S4cr30ld8",
        "outputId": "cf97125a-c7d6-43e4-ea69-d00ab76f1ee6"
      },
      "execution_count": null,
      "outputs": [
        {
          "output_type": "stream",
          "name": "stdout",
          "text": [
            "The 80% confidence interval for the mean number of pounds of beef consumed per week among males over 48 is: (3.8, 4.0)\n"
          ]
        }
      ]
    },
    {
      "cell_type": "markdown",
      "source": [
        "# 14. An economist wants to estimate the mean per capita income (in thousands of dollars) in a major city in California.  Suppose a sample of size 7472 is drawn with x ̅  = 16.6.  Assume ® = 11 .  Construct the 98% confidence interval for the mean per capita income. (Round your answers to 1 decimal place)\n",
        "\n"
      ],
      "metadata": {
        "id": "zXV31akV0-C8"
      }
    },
    {
      "cell_type": "code",
      "source": [
        "def confidence_interval(sample_mean, pop_std_dev, sample_size, confidence_level):\n",
        "    from scipy.stats import norm\n",
        "\n",
        "    # Calculate the Z-score for the given confidence level\n",
        "    z_score = norm.ppf(1 - (1 - confidence_level) / 2)\n",
        "\n",
        "    # Calculate the standard error\n",
        "    standard_error = pop_std_dev / (sample_size ** 0.5)\n",
        "\n",
        "    # Calculate the lower and upper bounds of the confidence interval\n",
        "    lower_bound = sample_mean - z_score * standard_error\n",
        "    upper_bound = sample_mean + z_score * standard_error\n",
        "\n",
        "    return round(lower_bound, 1), round(upper_bound, 1)\n",
        "\n",
        "if __name__ == \"__main__\":\n",
        "    # Given data\n",
        "    sample_mean = 16.6\n",
        "    pop_std_dev = 11\n",
        "    sample_size = 7472\n",
        "    confidence_level = 0.98  # 98% confidence interval\n",
        "\n",
        "    # Calculate the confidence interval\n",
        "    lower_bound, upper_bound = confidence_interval(sample_mean, pop_std_dev, sample_size, confidence_level)\n",
        "\n",
        "    # Print the result\n",
        "    print(f\"The 98% confidence interval for the mean per capita income is: ({lower_bound}, {upper_bound})\")\n"
      ],
      "metadata": {
        "colab": {
          "base_uri": "https://localhost:8080/"
        },
        "id": "uK5wQE5e1UbU",
        "outputId": "c3172322-1759-4efe-b967-4f3305c8c516"
      },
      "execution_count": null,
      "outputs": [
        {
          "output_type": "stream",
          "name": "stdout",
          "text": [
            "The 98% confidence interval for the mean per capita income is: (16.3, 16.9)\n"
          ]
        }
      ]
    },
    {
      "cell_type": "markdown",
      "source": [
        "# 15. Find the value of t such that 0.05 of the area under the curve is to the left of t.  Assume the degrees of freedom equals 26."
      ],
      "metadata": {
        "id": "5PHUmSHO1ecC"
      }
    },
    {
      "cell_type": "markdown",
      "source": [
        "Answer: The upper - right graph is the grath that best describe the problem  and the t is equal to 1.7056179"
      ],
      "metadata": {
        "id": "VNM33izA2eeo"
      }
    },
    {
      "cell_type": "code",
      "source": [
        "from scipy.stats import t\n",
        "\n",
        "def critical_t_value(alpha, df):\n",
        "    # Calculate the critical t-value for the given probability and degrees of freedom\n",
        "    critical_t = t.ppf(alpha, df)\n",
        "    return critical_t\n",
        "\n",
        "if __name__ == \"__main__\":\n",
        "    # Given data\n",
        "    alpha = 0.05  # Probability to the left (0.05 for a one-tailed test with 95% confidence level)\n",
        "    degrees_of_freedom = 26\n",
        "\n",
        "    # Calculate the critical t-value\n",
        "    t_value = critical_t_value(alpha, degrees_of_freedom)\n",
        "\n",
        "    # Print the result\n",
        "    print(f\"The critical t-value with 0.05 area to the left (with 26 degrees of freedom) is: {t_value:.4f}\")\n"
      ],
      "metadata": {
        "colab": {
          "base_uri": "https://localhost:8080/"
        },
        "id": "ghkUqNpr2nXd",
        "outputId": "20368ba1-d5aa-48f6-ec13-66ab17111f02"
      },
      "execution_count": null,
      "outputs": [
        {
          "output_type": "stream",
          "name": "stdout",
          "text": [
            "The critical t-value with 0.05 area to the left (with 26 degrees of freedom) is: -1.7056\n"
          ]
        }
      ]
    },
    {
      "cell_type": "markdown",
      "source": [
        "# 16. The following measurements ( in picocuries per liter ) were recorded by a set of helium gas detectors installed in a laboratory facility: 383.6, 347.1, 371.9, 347.6, 325.8, 337\n",
        "  Using these measurements, construct a 90% confidence interval for the mean level of helium gas present in the facility.  Assume the population is normally distributed.  \n",
        "\n"
      ],
      "metadata": {
        "id": "J_i020dv5FP8"
      }
    },
    {
      "cell_type": "code",
      "source": [
        "import math\n",
        "\n",
        "def sample_mean(data):\n",
        "    return sum(data) / len(data)\n",
        "\n",
        "def sample_standard_deviation(data):\n",
        "    mean = sample_mean(data)\n",
        "    squared_diff_sum = sum((x - mean) ** 2 for x in data)\n",
        "    return math.sqrt(squared_diff_sum / (len(data) - 1))\n",
        "\n",
        "def critical_value(confidence_level, degrees_of_freedom):\n",
        "    from scipy.stats import t\n",
        "    return t.ppf(1 - (1 - confidence_level) / 2, degrees_of_freedom)\n",
        "\n",
        "def confidence_interval(data, confidence_level):\n",
        "    mean = sample_mean(data)\n",
        "    std_dev = sample_standard_deviation(data)\n",
        "    n = len(data)\n",
        "    crit_val = critical_value(confidence_level, n - 1)\n",
        "    margin_of_error = crit_val * (std_dev / math.sqrt(n))\n",
        "    lower_bound = mean - margin_of_error\n",
        "    upper_bound = mean + margin_of_error\n",
        "    return round(lower_bound, 2), round(upper_bound, 2)\n",
        "\n",
        "if __name__ == \"__main__\":\n",
        "    # Given data\n",
        "    measurements = [383.6, 347.1, 371.9, 347.6, 325.8, 337]\n",
        "    confidence_level = 0.90\n",
        "\n",
        "    # Calculate the sample mean and sample standard deviation\n",
        "    sample_mean_value = sample_mean(measurements)\n",
        "    sample_std_dev_value = sample_standard_deviation(measurements)\n",
        "\n",
        "    # Find the critical value\n",
        "    degrees_of_freedom = len(measurements) - 1\n",
        "    crit_value = critical_value(confidence_level, degrees_of_freedom)\n",
        "\n",
        "    # Construct the confidence interval\n",
        "    lower_bound, upper_bound = confidence_interval(measurements, confidence_level)\n",
        "\n",
        "    # Print the results\n",
        "    print(f\"Step 1. Sample mean: {sample_mean_value:.2f}\")\n",
        "    print(f\"Step 2. Sample standard deviation: {sample_std_dev_value:.2f}\")\n",
        "    print(f\"Step 3. Critical value: {crit_value:.3f}\")\n",
        "    print(f\"Step 4. 90% confidence interval: ({lower_bound}, {upper_bound})\")\n"
      ],
      "metadata": {
        "colab": {
          "base_uri": "https://localhost:8080/"
        },
        "id": "6gIm8sEd5v6q",
        "outputId": "287fc108-170f-4334-8c92-8ee4dcaff3cd"
      },
      "execution_count": null,
      "outputs": [
        {
          "output_type": "stream",
          "name": "stdout",
          "text": [
            "Step 1. Sample mean: 352.17\n",
            "Step 2. Sample standard deviation: 21.68\n",
            "Step 3. Critical value: 2.015\n",
            "Step 4. 90% confidence interval: (334.34, 370.0)\n"
          ]
        }
      ]
    },
    {
      "cell_type": "markdown",
      "source": [
        "# 17. A random sample of 16 fields of spring wheat has a mean yield of 46.4 bushels per acre and standard deviation of 2.45 bushels per acre.  Determine the 80% confidence interval for the true mean yield.  Assume the population is normally distributed.  \n",
        "\n",
        "Step 1. Find the critical value that should be used in constructing the confidence interval. (Round answer to 3 decimal places)\n",
        "\n",
        "\n",
        "Step 2. Construct the 80% confidence interval. (Round answer to 1 decimal place)\n"
      ],
      "metadata": {
        "id": "_1Up9pDG6X6k"
      }
    },
    {
      "cell_type": "code",
      "source": [
        "import math\n",
        "\n",
        "def critical_value(confidence_level, degrees_of_freedom):\n",
        "    from scipy.stats import t\n",
        "    return t.ppf(1 - (1 - confidence_level) / 2, degrees_of_freedom)\n",
        "\n",
        "def confidence_interval(sample_mean, sample_std_dev, sample_size, confidence_level):\n",
        "    crit_val = critical_value(confidence_level, sample_size - 1)\n",
        "    margin_of_error = crit_val * (sample_std_dev / math.sqrt(sample_size))\n",
        "    lower_bound = sample_mean - margin_of_error\n",
        "    upper_bound = sample_mean + margin_of_error\n",
        "    return round(lower_bound, 1), round(upper_bound, 1)\n",
        "\n",
        "if __name__ == \"__main__\":\n",
        "    # Given data\n",
        "    sample_mean = 46.4\n",
        "    sample_std_dev = 2.45\n",
        "    sample_size = 16\n",
        "    confidence_level = 0.80\n",
        "\n",
        "    # Find the critical value\n",
        "    crit_value = critical_value(confidence_level, sample_size - 1)\n",
        "\n",
        "    # Construct the confidence interval\n",
        "    lower_bound, upper_bound = confidence_interval(sample_mean, sample_std_dev, sample_size, confidence_level)\n",
        "\n",
        "    # Print the results\n",
        "    print(f\"Step 1. Critical value: {crit_value:.3f}\")\n",
        "    print(f\"Step 2. 80% confidence interval: ({lower_bound}, {upper_bound})\")\n"
      ],
      "metadata": {
        "colab": {
          "base_uri": "https://localhost:8080/"
        },
        "id": "jhpEAN986nsx",
        "outputId": "ea2888a7-321d-48e5-a143-4e35defa252b"
      },
      "execution_count": null,
      "outputs": [
        {
          "output_type": "stream",
          "name": "stdout",
          "text": [
            "Step 1. Critical value: 1.341\n",
            "Step 2. 80% confidence interval: (45.6, 47.2)\n"
          ]
        }
      ]
    },
    {
      "cell_type": "markdown",
      "source": [
        "# 18. A toy manufacturer wants to know how many new toys children buy each year.  She thinks the mean is 8 toys per year.  Assume a previous study found the standard deviation to be 1.9.  How large of a sample would be required in order to estimate the mean number of toys bought per child at the 99% confidence level with an error of at most 0.13 toys? (Round your answer up to the next integer)\n",
        "\n"
      ],
      "metadata": {
        "id": "rhiy4fHN7C5l"
      }
    },
    {
      "cell_type": "code",
      "source": [
        "import math\n",
        "\n",
        "def required_sample_size(confidence_level, population_std_dev, max_error):\n",
        "    from scipy.stats import norm\n",
        "\n",
        "    # Calculate the Z-score for the given confidence level\n",
        "    z_score = norm.ppf(1 - (1 - confidence_level) / 2)\n",
        "\n",
        "    # Calculate the required sample size\n",
        "    sample_size = ((z_score * population_std_dev) / max_error) ** 2\n",
        "\n",
        "    # Round up to the next integer\n",
        "    sample_size = math.ceil(sample_size)\n",
        "\n",
        "    return sample_size\n",
        "\n",
        "if __name__ == \"__main__\":\n",
        "    # Given data\n",
        "    confidence_level = 0.99  # 99% confidence level\n",
        "    population_std_dev = 1.9\n",
        "    max_error = 0.13\n",
        "\n",
        "    # Calculate the required sample size\n",
        "    sample_size = required_sample_size(confidence_level, population_std_dev, max_error)\n",
        "\n",
        "    # Print the result\n",
        "    print(f\"The required sample size is: {sample_size}\")\n"
      ],
      "metadata": {
        "colab": {
          "base_uri": "https://localhost:8080/"
        },
        "id": "vQMKRi4A7mol",
        "outputId": "efc660bc-ded2-40f9-db6d-a2c1ed6d5a1d"
      },
      "execution_count": null,
      "outputs": [
        {
          "output_type": "stream",
          "name": "stdout",
          "text": [
            "The required sample size is: 1418\n"
          ]
        }
      ]
    },
    {
      "cell_type": "markdown",
      "source": [
        "# 19. A research scientist wants to know how many times per hour a certain strand of bacteria reproduces.  He believes that the mean is 12.6.  Assume the variance is known to be 3.61.  How large of a sample would be required in order to estimate the mean number of reproductions per hour at the 95% confidence level with an error of at most 0.19 reproductions? (Round your answer up to the next integer)\n",
        "\n"
      ],
      "metadata": {
        "id": "kT3yIqb97qgi"
      }
    },
    {
      "cell_type": "code",
      "source": [
        "import math\n",
        "\n",
        "def required_sample_size(confidence_level, population_std_dev, max_error):\n",
        "    from scipy.stats import norm\n",
        "\n",
        "    # Calculate the Z-score for the given confidence level\n",
        "    z_score = norm.ppf(1 - (1 - confidence_level) / 2)\n",
        "\n",
        "    # Calculate the required sample size\n",
        "    sample_size = ((z_score * population_std_dev) / max_error) ** 2\n",
        "\n",
        "    # Round up to the next integer\n",
        "    sample_size = math.ceil(sample_size)\n",
        "\n",
        "    return sample_size\n",
        "\n",
        "if __name__ == \"__main__\":\n",
        "    # Given data\n",
        "    confidence_level = 0.95  # 95% confidence level\n",
        "    population_std_dev = math.sqrt(3.61)  # Population standard deviation (square root of variance)\n",
        "    max_error = 0.19\n",
        "\n",
        "    # Calculate the required sample size\n",
        "    sample_size = required_sample_size(confidence_level, population_std_dev, max_error)\n",
        "\n",
        "    # Print the result\n",
        "    print(f\"The required sample size is: {sample_size}\")\n"
      ],
      "metadata": {
        "colab": {
          "base_uri": "https://localhost:8080/"
        },
        "id": "X5TiTy6y8C8b",
        "outputId": "e3d8007b-8cb9-4407-e4c9-b0c8f086e617"
      },
      "execution_count": null,
      "outputs": [
        {
          "output_type": "stream",
          "name": "stdout",
          "text": [
            "The required sample size is: 385\n"
          ]
        }
      ]
    },
    {
      "cell_type": "markdown",
      "source": [
        "# 20. The state education commission wants to estimate the fraction of tenth grade students that have reading skills at or below the eighth grade level.\n",
        "\n",
        "Step 1. Suppose a sample of 2089 tenth graders is drawn. Of the students sampled, 1734 read above the eighth grade level.  Using the data, estimate the proportion of tenth graders reading at or below the eighth grade level. (Write your answer as a fraction or a decimal number rounded to 3 decimal places)\n",
        "\n",
        "\n",
        "Step 2. Suppose a sample of 2089 tenth graders is drawn.  Of the students sampled, 1734 read above the eighth grade level.  Using the data, construct the 98% confidence interval for the population proportion of tenth graders reading at or below the eighth grade level. (Round your answers to 3 decimal places)\n"
      ],
      "metadata": {
        "id": "0nIM15Ql8VSg"
      }
    },
    {
      "cell_type": "code",
      "source": [
        "import math\n",
        "\n",
        "def proportion_confidence_interval(sample_proportion, sample_size, confidence_level):\n",
        "    from scipy.stats import norm\n",
        "\n",
        "    # Calculate the Z-score for the given confidence level\n",
        "    z_score = norm.ppf(1 - (1 - confidence_level) / 2)\n",
        "\n",
        "    # Calculate the standard error\n",
        "    standard_error = math.sqrt((sample_proportion * (1 - sample_proportion)) / sample_size)\n",
        "\n",
        "    # Calculate the lower and upper bounds of the confidence interval\n",
        "    lower_bound = sample_proportion - z_score * standard_error\n",
        "    upper_bound = sample_proportion + z_score * standard_error\n",
        "\n",
        "    return round(lower_bound, 3), round(upper_bound, 3)\n",
        "\n",
        "if __name__ == \"__main__\":\n",
        "    # Given data\n",
        "    total_sample_size = 2089\n",
        "    students_above_eighth_grade = 1734\n",
        "    confidence_level = 0.98  # 98% confidence interval\n",
        "\n",
        "    # Calculate the sample proportion\n",
        "    sample_proportion = 1 - (students_above_eighth_grade / total_sample_size)\n",
        "\n",
        "    # Construct the confidence interval\n",
        "    lower_bound, upper_bound = proportion_confidence_interval(sample_proportion, total_sample_size, confidence_level)\n",
        "\n",
        "    # Print the results\n",
        "    print(f\"Step 1. Estimated proportion of tenth graders reading at or below eighth grade level: {sample_proportion:.3f}\")\n",
        "    print(f\"Step 2. 98% confidence interval: ({lower_bound}, {upper_bound})\")\n"
      ],
      "metadata": {
        "colab": {
          "base_uri": "https://localhost:8080/"
        },
        "id": "o0g7eFa58h-p",
        "outputId": "7d9740a0-2a7a-43fa-ae36-a055dc258405"
      },
      "execution_count": null,
      "outputs": [
        {
          "output_type": "stream",
          "name": "stdout",
          "text": [
            "Step 1. Estimated proportion of tenth graders reading at or below eighth grade level: 0.170\n",
            "Step 2. 98% confidence interval: (0.151, 0.189)\n"
          ]
        }
      ]
    },
    {
      "cell_type": "markdown",
      "source": [
        "# 21. An environmentalist wants to find out the fraction of oil tankers that have spills each month.\n",
        "\n",
        "Step 1. Suppose a sample of 474 tankers is drawn.  Of these ships, 156 had spills.  Using the data, estimate the proportion of oil tankers that had spills. (Write your answer as a fraction or a decimal number rounded to 3 decimal places\n"
      ],
      "metadata": {
        "id": "bZPFSALY83MB"
      }
    },
    {
      "cell_type": "code",
      "source": [
        "def sample_proportion(tankers_with_spills, total_sample_size):\n",
        "    return tankers_with_spills / total_sample_size\n",
        "\n",
        "if __name__ == \"__main__\":\n",
        "    # Given data\n",
        "    tankers_with_spills = 156\n",
        "    total_sample_size = 474\n",
        "\n",
        "    # Calculate the sample proportion\n",
        "    sample_proportion_value = sample_proportion(tankers_with_spills, total_sample_size)\n",
        "\n",
        "    # Print the result\n",
        "    print(f\"The estimated proportion of oil tankers that had spills is: {sample_proportion_value:.3f}\")\n"
      ],
      "metadata": {
        "colab": {
          "base_uri": "https://localhost:8080/"
        },
        "id": "fBaHVbu59WdC",
        "outputId": "64c5a439-d763-4372-dcea-c25d674f63bc"
      },
      "execution_count": null,
      "outputs": [
        {
          "output_type": "stream",
          "name": "stdout",
          "text": [
            "The estimated proportion of oil tankers that had spills is: 0.329\n"
          ]
        }
      ]
    },
    {
      "cell_type": "markdown",
      "source": [
        "Step 2. Suppose a sample of 474 tankers is drawn.  Of these ships, 156 had spills.  Using the data, construct the 95% confidence interval for the population proportion of oil tankers that have spills each month. (Round your answers to 3 decimal places)\n"
      ],
      "metadata": {
        "id": "KeypAGlx9sZ4"
      }
    },
    {
      "cell_type": "code",
      "source": [
        "import math\n",
        "\n",
        "def proportion_confidence_interval(sample_proportion, sample_size, confidence_level):\n",
        "    from scipy.stats import norm\n",
        "\n",
        "    # Calculate the Z-score for the given confidence level\n",
        "    z_score = norm.ppf(1 - (1 - confidence_level) / 2)\n",
        "\n",
        "    # Calculate the standard error\n",
        "    standard_error = math.sqrt((sample_proportion * (1 - sample_proportion)) / sample_size)\n",
        "\n",
        "    # Calculate the lower and upper bounds of the confidence interval\n",
        "    lower_bound = sample_proportion - z_score * standard_error\n",
        "    upper_bound = sample_proportion + z_score * standard_error\n",
        "\n",
        "    return round(lower_bound, 3), round(upper_bound, 3)\n",
        "\n",
        "if __name__ == \"__main__\":\n",
        "    # Given data\n",
        "    tankers_with_spills = 156\n",
        "    total_sample_size = 474\n",
        "    confidence_level = 0.95  # 95% confidence interval\n",
        "\n",
        "    # Calculate the sample proportion\n",
        "    sample_proportion = tankers_with_spills / total_sample_size\n",
        "\n",
        "    # Construct the confidence interval\n",
        "    lower_bound, upper_bound = proportion_confidence_interval(sample_proportion, total_sample_size, confidence_level)\n",
        "\n",
        "    # Print the results\n",
        "    print(f\"Step 2. 95% confidence interval: ({lower_bound}, {upper_bound})\")\n"
      ],
      "metadata": {
        "colab": {
          "base_uri": "https://localhost:8080/"
        },
        "id": "_-08F8b69_Ew",
        "outputId": "5b0a2da7-6694-4c11-ff15-fc145f40ba02"
      },
      "execution_count": null,
      "outputs": [
        {
          "output_type": "stream",
          "name": "stdout",
          "text": [
            "Step 2. 95% confidence interval: (0.287, 0.371)\n"
          ]
        }
      ]
    }
  ]
}