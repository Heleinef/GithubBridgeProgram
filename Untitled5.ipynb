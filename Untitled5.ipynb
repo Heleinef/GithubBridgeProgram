{
  "nbformat": 4,
  "nbformat_minor": 0,
  "metadata": {
    "colab": {
      "provenance": [],
      "authorship_tag": "ABX9TyOqfXWuOWPOLkDIxUtayACV",
      "include_colab_link": true
    },
    "kernelspec": {
      "name": "python3",
      "display_name": "Python 3"
    },
    "language_info": {
      "name": "python"
    }
  },
  "cells": [
    {
      "cell_type": "markdown",
      "metadata": {
        "id": "view-in-github",
        "colab_type": "text"
      },
      "source": [
        "<a href=\"https://colab.research.google.com/github/Heleinef/GithubBridgeProgram/blob/main/Untitled5.ipynb\" target=\"_parent\"><img src=\"https://colab.research.google.com/assets/colab-badge.svg\" alt=\"Open In Colab\"/></a>"
      ]
    },
    {
      "cell_type": "markdown",
      "source": [
        "MATHS WITH PYTHON WEEK 2\n"
      ],
      "metadata": {
        "id": "Re6gYQXNCiPl"
      }
    },
    {
      "cell_type": "markdown",
      "source": [
        "Matrix multitplication\n"
      ],
      "metadata": {
        "id": "BAtPmA274IKY"
      }
    },
    {
      "cell_type": "code",
      "source": [
        "import numpy as np\n",
        "A = np.array([[1,1],[-2,-3]])\n",
        "B = np.array([[0,1],[-2,2]])\n",
        "C = A * B\n",
        "print (\"A * B =\", C)"
      ],
      "metadata": {
        "colab": {
          "base_uri": "https://localhost:8080/"
        },
        "id": "s3IGtpFIyy1h",
        "outputId": "d25876be-1e0a-45fd-9c80-bfe032a088fe"
      },
      "execution_count": 2,
      "outputs": [
        {
          "output_type": "stream",
          "name": "stdout",
          "text": [
            "A * B = [[ 0  1]\n",
            " [ 4 -6]]\n"
          ]
        }
      ]
    },
    {
      "cell_type": "markdown",
      "source": [
        "1. Program to compute eigenvalues and right eigenvectors\n",
        "\n"
      ],
      "metadata": {
        "id": "kuqmtmb_4btr"
      }
    },
    {
      "cell_type": "markdown",
      "source": [
        "# eigendecomposition\n"
      ],
      "metadata": {
        "id": "h7JE1tzW402k"
      }
    },
    {
      "cell_type": "code",
      "source": [
        "from numpy import array\n",
        "from numpy.linalg import eig\n",
        "#  Define matrix\n",
        "A = array([[3,4,5],[6,7,8],[9,10,11]])\n",
        "print(A)\n"
      ],
      "metadata": {
        "colab": {
          "base_uri": "https://localhost:8080/"
        },
        "id": "dC3rKNbRAFaO",
        "outputId": "a60ad517-f2bb-4bc7-b947-f8f9ad2cfe88"
      },
      "execution_count": 4,
      "outputs": [
        {
          "output_type": "stream",
          "name": "stdout",
          "text": [
            "[[ 3  4  5]\n",
            " [ 6  7  8]\n",
            " [ 9 10 11]]\n"
          ]
        }
      ]
    },
    {
      "cell_type": "markdown",
      "source": [
        "# Factotorize\n",
        "\n"
      ],
      "metadata": {
        "id": "xp0wcDArA62G"
      }
    },
    {
      "cell_type": "code",
      "source": [
        "values, vectors = eig(A)\n",
        "print (values)\n",
        "print (vectors)"
      ],
      "metadata": {
        "colab": {
          "base_uri": "https://localhost:8080/"
        },
        "id": "nRDS3MoCBHQ-",
        "outputId": "af84aab1-d6a2-47af-b761-2335020f7e50"
      },
      "execution_count": 7,
      "outputs": [
        {
          "output_type": "stream",
          "name": "stdout",
          "text": [
            "[ 2.18247517e+01 -8.24751653e-01 -1.97369436e-16]\n",
            "[[-0.32152846 -0.76708916  0.40824829]\n",
            " [-0.54716684 -0.0643943  -0.81649658]\n",
            " [-0.77280521  0.63830055  0.40824829]]\n"
          ]
        }
      ]
    },
    {
      "cell_type": "markdown",
      "source": [
        "# Confirm eigenvectors"
      ],
      "metadata": {
        "id": "CVP0aYBDBiKb"
      }
    },
    {
      "cell_type": "code",
      "source": [
        "from numpy import array\n",
        "from numpy.linalg import eig\n",
        "# Define matrix"
      ],
      "metadata": {
        "id": "V2V2NPTVBtGq"
      },
      "execution_count": null,
      "outputs": []
    },
    {
      "cell_type": "code",
      "source": [
        "A = array ([[3,4,5],[6,7,8],[9,10,11]])\n",
        "# Factorize\n",
        "values, vectors = eig(A)\n",
        "# Confirm first eigentvector\n",
        "B = A.dot (vectors [:,0])\n",
        "print(B)\n",
        "C = vectors[:,0]* values [0]\n",
        "print(C)"
      ],
      "metadata": {
        "colab": {
          "base_uri": "https://localhost:8080/"
        },
        "id": "Qr6-HSm6CPeK",
        "outputId": "b69f9c74-975f-42ca-e191-013d1dd8cf5a"
      },
      "execution_count": 11,
      "outputs": [
        {
          "output_type": "stream",
          "name": "stdout",
          "text": [
            "[ -7.01727881 -11.94178035 -16.86628189]\n",
            "[ -7.01727881 -11.94178035 -16.86628189]\n"
          ]
        }
      ]
    },
    {
      "cell_type": "markdown",
      "source": [
        "2. Singular Value Decomposition\n",
        "\n"
      ],
      "metadata": {
        "id": "7uj8uxB1D33n"
      }
    },
    {
      "cell_type": "code",
      "source": [
        "from numpy import array\n",
        "from scipy.linalg import svd\n",
        "# Define a matrix\n",
        "A = ([[3,4],[5,6],[7,8]])\n",
        "print(A)\n",
        "# Factorize\n",
        "U, s, V = svd(A)\n",
        "print(U)\n",
        "print(s)\n",
        "print(V)"
      ],
      "metadata": {
        "colab": {
          "base_uri": "https://localhost:8080/"
        },
        "id": "opqzvajeEP2v",
        "outputId": "8be5191f-2988-4366-e135-6afe0ff2b6c4"
      },
      "execution_count": 12,
      "outputs": [
        {
          "output_type": "stream",
          "name": "stdout",
          "text": [
            "[[3, 4], [5, 6], [7, 8]]\n",
            "[[-0.35394171  0.84146218  0.40824829]\n",
            " [-0.55380728  0.16318956 -0.81649658]\n",
            " [-0.75367285 -0.51508307  0.40824829]]\n",
            "[14.10245808  0.34738479]\n",
            "[[-0.64574356 -0.76355436]\n",
            " [-0.76355436  0.64574356]]\n"
          ]
        }
      ]
    },
    {
      "cell_type": "markdown",
      "source": [],
      "metadata": {
        "id": "ENVaLQ-wE75v"
      }
    },
    {
      "cell_type": "markdown",
      "source": [
        "3.Computing the deteminant of an array\n",
        "\n"
      ],
      "metadata": {
        "id": "jG6xezFMHYrz"
      }
    },
    {
      "cell_type": "code",
      "source": [
        "from ast import Num\n",
        "from sympy.concrete.products import product\n",
        "from sympy.matrices.expressions import determinant\n",
        "import numpy as np\n",
        "import numpy.linalg as la\n",
        "import sympy as sym\n",
        "import math\n",
        "sym.init_printing()\n",
        "\n",
        "A = np.array([[1,6],[4,8],])\n",
        "Adet = la. det (A)\n",
        "print(Adet)\n",
        "\n",
        "\n",
        "\n",
        "\n",
        "\n"
      ],
      "metadata": {
        "colab": {
          "base_uri": "https://localhost:8080/"
        },
        "id": "ArRHPXeLOLW3",
        "outputId": "d4cfe2ea-f276-4dfa-e0ea-d7227bcc43a3"
      },
      "execution_count": 30,
      "outputs": [
        {
          "output_type": "stream",
          "name": "stdout",
          "text": [
            "-15.999999999999998\n"
          ]
        }
      ]
    }
  ]
}